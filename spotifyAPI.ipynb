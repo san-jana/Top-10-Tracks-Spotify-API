{
 "cells": [
  {
   "cell_type": "code",
   "execution_count": 7,
   "id": "fc4da08c",
   "metadata": {},
   "outputs": [],
   "source": [
    "# !pip install requests\n",
    "# !pip install python-dotenv"
   ]
  },
  {
   "cell_type": "code",
   "execution_count": 59,
   "id": "f480dfd6",
   "metadata": {},
   "outputs": [],
   "source": [
    "import requests\n",
    "from dotenv import load_dotenv \n",
    "import os\n",
    "import base64\n",
    "import json"
   ]
  },
  {
   "cell_type": "code",
   "execution_count": 3,
   "id": "e06a1763",
   "metadata": {},
   "outputs": [
    {
     "data": {
      "text/plain": [
       "True"
      ]
     },
     "execution_count": 3,
     "metadata": {},
     "output_type": "execute_result"
    }
   ],
   "source": [
    "# load_dotenv loads all the local environment variables file from within the current directory (.env files)\n",
    "load_dotenv()"
   ]
  },
  {
   "cell_type": "code",
   "execution_count": 4,
   "id": "1b818dc7",
   "metadata": {},
   "outputs": [],
   "source": [
    "# storing the variables from the .env file into the current session (client_id and client_secret)\n",
    "client_id = <'Your CLient ID'>\n",
    "client_secret = '<Your CLient Secret>'"
   ]
  },
  {
   "cell_type": "code",
   "execution_count": 15,
   "id": "674dabf6",
   "metadata": {},
   "outputs": [],
   "source": [
    "def get_token():\n",
    "    \n",
    "    ''' Authorization Token\n",
    "    In order to retrive the authorization token: \n",
    "    Headers must include- \n",
    "    An authorization string in the format: 'Authorization: Basic <base64 encoded client_id:client_secret>'\n",
    "    Content-Type:  Always set to application/x-www-form-urlencoded.\n",
    "\n",
    "    Body - \n",
    "    grant_type: Set it to 'client_credentials'.\n",
    "\n",
    "    For more details, \n",
    "    check the Spotify API documentation: https://developer.spotify.com/documentation/web-api/tutorials/client-credentials-flow \n",
    "    '''\n",
    "    \n",
    "    # converting the client credentials to base64 encoded string\n",
    "    auth_string = client_id + ':' + client_secret\n",
    "    auth_string_bytes = auth_string.encode('ascii')\n",
    "    auth_base64_bytes = base64.b64encode(auth_string_bytes)\n",
    "    auth_base64_string = auth_base64_bytes.decode('ascii')\n",
    "    \n",
    "    base_url = 'https://accounts.spotify.com/api/token'\n",
    "    \n",
    "    headers = {\n",
    "        'Authorization': 'Basic ' + auth_base64_string,\n",
    "        'Content-Type': 'application/x-www-form-urlencoded'\n",
    "    }\n",
    "    \n",
    "    body = { 'grant_type' : 'client_credentials'}\n",
    "    \n",
    "    # API call to create an authorization token\n",
    "    result = requests.post(base_url, headers = headers, data = body) # returns a HTTP status code.\n",
    "    # The client can read the result of the request in the body and the headers of the response.\n",
    "    \n",
    "    # loading the content of the result of the request as a json string\n",
    "    json_result = json.loads(result.content)\n",
    "    \n",
    "    # storing the value of the access token from the json string into a token variable\n",
    "    token = json_result['access_token']\n",
    "    \n",
    "    return token"
   ]
  },
  {
   "cell_type": "code",
   "execution_count": 58,
   "id": "d659dcea",
   "metadata": {},
   "outputs": [],
   "source": [
    "def get_auth_header(token):\n",
    "    ''' To use the access token you must include the following header in your API calls:\n",
    "    Authorization - Valid access token following the format: Bearer <Access Token> \n",
    "    \n",
    "    For more details, check the spotify documentation on making API calls: \n",
    "    https://developer.spotify.com/documentation/web-api/concepts/access-token\n",
    "    '''\n",
    "    token = get_token()\n",
    "    return {'Authorization': 'Bearer ' + token}"
   ]
  },
  {
   "cell_type": "code",
   "execution_count": 70,
   "id": "7872c0a0",
   "metadata": {},
   "outputs": [
    {
     "data": {
      "text/plain": [
       "{'external_urls': {'spotify': 'https://open.spotify.com/artist/3KXxNSegk9keTDArt5YQMm'},\n",
       " 'followers': {'href': None, 'total': 14663},\n",
       " 'genres': ['kentucky roots', 'roots americana'],\n",
       " 'href': 'https://api.spotify.com/v1/artists/3KXxNSegk9keTDArt5YQMm',\n",
       " 'id': '3KXxNSegk9keTDArt5YQMm',\n",
       " 'images': [{'height': 640,\n",
       "   'url': 'https://i.scdn.co/image/ab6761610000e5ebaae5ac8703fe5566c23a12d9',\n",
       "   'width': 640},\n",
       "  {'height': 320,\n",
       "   'url': 'https://i.scdn.co/image/ab67616100005174aae5ac8703fe5566c23a12d9',\n",
       "   'width': 320},\n",
       "  {'height': 160,\n",
       "   'url': 'https://i.scdn.co/image/ab6761610000f178aae5ac8703fe5566c23a12d9',\n",
       "   'width': 160}],\n",
       " 'name': 'The Local Honeys',\n",
       " 'popularity': 30,\n",
       " 'type': 'artist',\n",
       " 'uri': 'spotify:artist:3KXxNSegk9keTDArt5YQMm'}"
      ]
     },
     "execution_count": 70,
     "metadata": {},
     "output_type": "execute_result"
    }
   ],
   "source": [
    "def search_artist(token, artist_name):\n",
    "    ''' Searching for artist ID, returns content for the artist as a json string\n",
    "    \n",
    "    GET request must contain-\n",
    "    1. search query (string)\n",
    "    2. type (an array of strings). Allowed values: \"album\", \"artist\", \"playlist\", \"track\", \"show\", \"episode\", \"audiobook\"\n",
    "    \n",
    "    For more details, check the spotify documentation: https://developer.spotify.com/documentation/web-api/reference/search\n",
    "    '''\n",
    "    \n",
    "    url = 'https://api.spotify.com/v1/search' # endpoint url\n",
    "    headers = get_auth_header(token)\n",
    "    \n",
    "    query = f\"?q={artist_name}&type=artist&limit=1\"\n",
    "    query_url = url+query\n",
    "    \n",
    "    result = requests.get(query_url, headers = headers)\n",
    "    json_result = json.loads(result.content)['artists']['items']\n",
    "    \n",
    "#     json_result = json.loads(result.content)['artists']['items']\n",
    "    \n",
    "    if len(json_result) == 0:\n",
    "        print('No artist with this name exists...')\n",
    "        return None\n",
    "    \n",
    "    return json_result[0]\n",
    "\n",
    "search_artist(token, \"the local\")\n"
   ]
  },
  {
   "cell_type": "code",
   "execution_count": 66,
   "id": "045cc044",
   "metadata": {},
   "outputs": [
    {
     "name": "stdout",
     "output_type": "stream",
     "text": [
      "Enter an artist's name: Lorde\n",
      "1. Royals\n",
      "2. Ribs\n",
      "3. Team\n",
      "4. Supercut\n",
      "5. Green Light\n",
      "6. Liability\n",
      "7. Buzzcut Season\n",
      "8. Perfect Places\n",
      "9. Everybody Wants To Rule The World - From “The Hunger Games: Catching Fire” Soundtrack\n",
      "10. Tennis Court\n"
     ]
    }
   ],
   "source": [
    "def get_artist_tracks(token, artist_id):\n",
    "    '''Get the artists' top 10 tracks as a json string\n",
    "    \n",
    "    GET request must contain-\n",
    "    1. Artist ID (string) - The Spotify ID of the artist. \n",
    "                            Example: 0TnOYISbd1XYRBk9myaseg\n",
    "                            \n",
    "    2. market/country(string) - country code as per 'ISO 3166-1 alpha-2 country code'\n",
    "    \n",
    "    For more details, check the Spotify API documentation:\n",
    "    https://developer.spotify.com/documentation/web-api/reference/get-an-artists-top-tracks\n",
    "    '''\n",
    "    # retrive the artist id\n",
    "    artist_result = search_artist(token, input(\"Enter an artist's name: \"))\n",
    "    artist_id = artist_result['id']\n",
    "\n",
    "    artist_id_url = f\"https://api.spotify.com/v1/artists/{artist_id}/top-tracks?country=US\"    \n",
    "    headers = get_auth_header(token)\n",
    "    \n",
    "    result = requests.get(artist_id_url, headers = headers)\n",
    "    json_result = json.loads(result.content)[\"tracks\"]\n",
    "    \n",
    "    return json_result\n",
    "    \n",
    "tracks = get_artist_tracks(token, artist_id)\n",
    "\n",
    "for idn, track in enumerate(tracks):\n",
    "    print(f\"{idn+1}. {track['name']}\")\n"
   ]
  },
  {
   "cell_type": "code",
   "execution_count": null,
   "id": "49f3a76e",
   "metadata": {},
   "outputs": [],
   "source": []
  }
 ],
 "metadata": {
  "kernelspec": {
   "display_name": "Python 3 (ipykernel)",
   "language": "python",
   "name": "python3"
  },
  "language_info": {
   "codemirror_mode": {
    "name": "ipython",
    "version": 3
   },
   "file_extension": ".py",
   "mimetype": "text/x-python",
   "name": "python",
   "nbconvert_exporter": "python",
   "pygments_lexer": "ipython3",
   "version": "3.11.5"
  }
 },
 "nbformat": 4,
 "nbformat_minor": 5
}
